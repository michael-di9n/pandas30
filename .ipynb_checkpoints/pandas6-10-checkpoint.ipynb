{
 "cells": [
  {
   "cell_type": "code",
   "execution_count": 9,
   "id": "fc382e30-cea6-4cd5-80f6-8f531fa4c96c",
   "metadata": {},
   "outputs": [
    {
     "data": {
      "text/html": [
       "<div>\n",
       "<style scoped>\n",
       "    .dataframe tbody tr th:only-of-type {\n",
       "        vertical-align: middle;\n",
       "    }\n",
       "\n",
       "    .dataframe tbody tr th {\n",
       "        vertical-align: top;\n",
       "    }\n",
       "\n",
       "    .dataframe thead th {\n",
       "        text-align: right;\n",
       "    }\n",
       "</style>\n",
       "<table border=\"1\" class=\"dataframe\">\n",
       "  <thead>\n",
       "    <tr style=\"text-align: right;\">\n",
       "      <th></th>\n",
       "      <th>employee_id</th>\n",
       "      <th>bonus</th>\n",
       "    </tr>\n",
       "  </thead>\n",
       "  <tbody>\n",
       "    <tr>\n",
       "      <th>0</th>\n",
       "      <td>2</td>\n",
       "      <td>0</td>\n",
       "    </tr>\n",
       "    <tr>\n",
       "      <th>1</th>\n",
       "      <td>3</td>\n",
       "      <td>0</td>\n",
       "    </tr>\n",
       "    <tr>\n",
       "      <th>2</th>\n",
       "      <td>7</td>\n",
       "      <td>7400</td>\n",
       "    </tr>\n",
       "    <tr>\n",
       "      <th>3</th>\n",
       "      <td>8</td>\n",
       "      <td>0</td>\n",
       "    </tr>\n",
       "    <tr>\n",
       "      <th>4</th>\n",
       "      <td>9</td>\n",
       "      <td>7700</td>\n",
       "    </tr>\n",
       "  </tbody>\n",
       "</table>\n",
       "</div>"
      ],
      "text/plain": [
       "   employee_id  bonus\n",
       "0            2      0\n",
       "1            3      0\n",
       "2            7   7400\n",
       "3            8      0\n",
       "4            9   7700"
      ]
     },
     "execution_count": 9,
     "metadata": {},
     "output_type": "execute_result"
    }
   ],
   "source": [
    "#day6\n",
    "import pandas as pd\n",
    "data = [[2, 'Meir', 3000], [3, 'Michael', 3800], [7, 'Addilyn', 7400], [8, 'Juan', 6100], [9, 'Kannon', 7700]]\n",
    "employees = pd.DataFrame(data, columns=['employee_id', 'name', 'salary']).astype({'employee_id':'int64', 'name':'object', 'salary':'int64'})\n",
    "def calculate_special_bonus(employees: pd.DataFrame) -> pd.DataFrame:\n",
    "    employees[\"bonus\"] = employees.apply(lambda row : 0 if (row[\"employee_id\"] % 2 == 0 or row[\"name\"][0] == \"M\") else row[\"salary\"], axis=1) \n",
    "    return employees.filter([\"employee_id\", \"bonus\"]).sort_values('employee_id')\n",
    "    # Accepted 570ms 45% and 66mb 92%\n",
    "\n",
    "def calculate_special_bonus(employees: pd.DataFrame) -> pd.DataFrame:\n",
    "    # Geenerate a boolean series\n",
    "    condition = (employees[\"employee_id\"] % 2 != 0) & (employees[\"name\"].str[0] != \"M\")\n",
    "    # calculate bonus based on condition\n",
    "    employees[\"bonus\"] = employees[\"salary\"].where(condition, 0)\n",
    "    # filter and sort\n",
    "    result = employees[[\"employee_id\", \"bonus\"]].sort_values('employee_id').reset_index(drop=True)\n",
    "    # Accepted 364ms 84% and 67mb 32%\n",
    "    return result\n",
    "    # This solution utilizes pandas vectorized oeprations\n",
    "calculate_special_bonus(employees)"
   ]
  },
  {
   "cell_type": "code",
   "execution_count": 32,
   "id": "cd18d627-9e6b-4a65-bdc1-ccbccbebeff5",
   "metadata": {},
   "outputs": [
    {
     "data": {
      "text/html": [
       "<div>\n",
       "<style scoped>\n",
       "    .dataframe tbody tr th:only-of-type {\n",
       "        vertical-align: middle;\n",
       "    }\n",
       "\n",
       "    .dataframe tbody tr th {\n",
       "        vertical-align: top;\n",
       "    }\n",
       "\n",
       "    .dataframe thead th {\n",
       "        text-align: right;\n",
       "    }\n",
       "</style>\n",
       "<table border=\"1\" class=\"dataframe\">\n",
       "  <thead>\n",
       "    <tr style=\"text-align: right;\">\n",
       "      <th></th>\n",
       "      <th>user_id</th>\n",
       "      <th>name</th>\n",
       "    </tr>\n",
       "  </thead>\n",
       "  <tbody>\n",
       "    <tr>\n",
       "      <th>0</th>\n",
       "      <td>1</td>\n",
       "      <td>Alice</td>\n",
       "    </tr>\n",
       "    <tr>\n",
       "      <th>1</th>\n",
       "      <td>2</td>\n",
       "      <td>Bob</td>\n",
       "    </tr>\n",
       "  </tbody>\n",
       "</table>\n",
       "</div>"
      ],
      "text/plain": [
       "   user_id   name\n",
       "0        1  Alice\n",
       "1        2    Bob"
      ]
     },
     "execution_count": 32,
     "metadata": {},
     "output_type": "execute_result"
    }
   ],
   "source": [
    "#day7\n",
    "import pandas as pd\n",
    "def capital_first(s):\n",
    "    return s[0].upper() + s[1:].lower()\n",
    "    \n",
    "def fix_names(users: pd.DataFrame) -> pd.DataFrame:\n",
    "    users[\"name\"] = users[\"name\"].apply(capital_first)  # This format we apply specifically onto the name\n",
    "    return users.sort_values(\"user_id\")\n",
    "    \n",
    "data = [[1, 'aLice'], [2, 'bOB']]\n",
    "users = pd.DataFrame(data, columns=['user_id', 'name']).astype({'user_id':'Int64', 'name':'object'})\n",
    "\n",
    "fix_names(users)"
   ]
  },
  {
   "cell_type": "code",
   "execution_count": 46,
   "id": "c2895fe8-53e6-418e-a0b1-399b3638a236",
   "metadata": {},
   "outputs": [
    {
     "data": {
      "text/html": [
       "<div>\n",
       "<style scoped>\n",
       "    .dataframe tbody tr th:only-of-type {\n",
       "        vertical-align: middle;\n",
       "    }\n",
       "\n",
       "    .dataframe tbody tr th {\n",
       "        vertical-align: top;\n",
       "    }\n",
       "\n",
       "    .dataframe thead th {\n",
       "        text-align: right;\n",
       "    }\n",
       "</style>\n",
       "<table border=\"1\" class=\"dataframe\">\n",
       "  <thead>\n",
       "    <tr style=\"text-align: right;\">\n",
       "      <th></th>\n",
       "      <th>user_id</th>\n",
       "      <th>name</th>\n",
       "      <th>mail</th>\n",
       "    </tr>\n",
       "  </thead>\n",
       "  <tbody>\n",
       "    <tr>\n",
       "      <th>0</th>\n",
       "      <td>1</td>\n",
       "      <td>Winston</td>\n",
       "      <td>winston@x.com</td>\n",
       "    </tr>\n",
       "    <tr>\n",
       "      <th>2</th>\n",
       "      <td>3</td>\n",
       "      <td>Annabelle</td>\n",
       "      <td>bella-@x.com</td>\n",
       "    </tr>\n",
       "    <tr>\n",
       "      <th>3</th>\n",
       "      <td>4</td>\n",
       "      <td>Sally</td>\n",
       "      <td>sally.come@x.com</td>\n",
       "    </tr>\n",
       "  </tbody>\n",
       "</table>\n",
       "</div>"
      ],
      "text/plain": [
       "   user_id       name              mail\n",
       "0        1    Winston     winston@x.com\n",
       "2        3  Annabelle      bella-@x.com\n",
       "3        4      Sally  sally.come@x.com"
      ]
     },
     "execution_count": 46,
     "metadata": {},
     "output_type": "execute_result"
    }
   ],
   "source": [
    "#day8\n",
    "import pandas as pd\n",
    "import re\n",
    "data = [[1, 'Winston', 'winston@x.com'], [2, 'Jonathan', 'jonathanisgreat'], [3, 'Annabelle', 'bella-@x.com'], [4, 'Sally', 'sally.come@x.com'], [5, 'Marwan', 'quarz#2020@x.com'], [6, 'David', 'david69@gmail.com'], [7, 'Shapiro', '.shapo@x.com']]\n",
    "users = pd.DataFrame(data, columns=['user_id', 'name', 'mail']).astype({'user_id':'int64', 'name':'object', 'mail':'object'})\n",
    "\n",
    "def valid_prefix(s):\n",
    "    pattern = r\"^[a-zA-Z0-9_.-]+$\"\n",
    "    # valid means upper and lower case letter digits, _ . - and must start with a letter\n",
    "    parts = s.split('@')\n",
    "    if len(parts) != 2:\n",
    "        return False\n",
    "        \n",
    "    prefix, suffix = parts\n",
    "    if len(prefix) == 0 or suffix != \"x.com\" or not re.match(r\"[a-zA-Z]\", prefix[0]):\n",
    "        return False\n",
    "    \n",
    "    if not re.match(pattern, prefix):\n",
    "        return False\n",
    "        \n",
    "    return True\n",
    "    \n",
    "def valid_emails(users: pd.DataFrame) -> pd.DataFrame:\n",
    "    # Use where to get a boolean series then index into using that series to get the rows. Complex == use apply\n",
    "    valid_emails = users[\"mail\"].apply(valid_prefix)\n",
    "    return users[valid_emails]\n",
    "\n",
    "valid_emails(users)\n",
    "# Accepted"
   ]
  },
  {
   "cell_type": "code",
   "execution_count": 44,
   "id": "86422a89-6ba6-43f8-b98b-481fb6cb18f5",
   "metadata": {},
   "outputs": [
    {
     "data": {
      "text/plain": [
       "['', 'abc']"
      ]
     },
     "execution_count": 44,
     "metadata": {},
     "output_type": "execute_result"
    }
   ],
   "source": [
    "\"@abc\".split('@')"
   ]
  },
  {
   "cell_type": "code",
   "execution_count": 55,
   "id": "214dd7fe-3a3b-461b-83b0-92e4d214ce78",
   "metadata": {},
   "outputs": [
    {
     "name": "stdout",
     "output_type": "stream",
     "text": [
      "0    False\n",
      "1    False\n",
      "2     True\n",
      "3     True\n",
      "4    False\n",
      "Name: conditions, dtype: bool\n"
     ]
    },
    {
     "data": {
      "text/html": [
       "<div>\n",
       "<style scoped>\n",
       "    .dataframe tbody tr th:only-of-type {\n",
       "        vertical-align: middle;\n",
       "    }\n",
       "\n",
       "    .dataframe tbody tr th {\n",
       "        vertical-align: top;\n",
       "    }\n",
       "\n",
       "    .dataframe thead th {\n",
       "        text-align: right;\n",
       "    }\n",
       "</style>\n",
       "<table border=\"1\" class=\"dataframe\">\n",
       "  <thead>\n",
       "    <tr style=\"text-align: right;\">\n",
       "      <th></th>\n",
       "      <th>patient_id</th>\n",
       "      <th>patient_name</th>\n",
       "      <th>conditions</th>\n",
       "    </tr>\n",
       "  </thead>\n",
       "  <tbody>\n",
       "    <tr>\n",
       "      <th>2</th>\n",
       "      <td>3</td>\n",
       "      <td>Bob</td>\n",
       "      <td>DIAB100 MYOP</td>\n",
       "    </tr>\n",
       "    <tr>\n",
       "      <th>3</th>\n",
       "      <td>4</td>\n",
       "      <td>George</td>\n",
       "      <td>ACNE DIAB100</td>\n",
       "    </tr>\n",
       "  </tbody>\n",
       "</table>\n",
       "</div>"
      ],
      "text/plain": [
       "   patient_id patient_name    conditions\n",
       "2           3          Bob  DIAB100 MYOP\n",
       "3           4       George  ACNE DIAB100"
      ]
     },
     "execution_count": 55,
     "metadata": {},
     "output_type": "execute_result"
    }
   ],
   "source": [
    "#day9\n",
    "import pandas as pd\n",
    "data = [[1, 'Daniel', 'YFEV COUGH'], [2, 'Alice', ''], [3, 'Bob', 'DIAB100 MYOP'], [4, 'George', 'ACNE DIAB100'], [5, 'Alain', 'DIAB201']]\n",
    "patients = pd.DataFrame(data, columns=['patient_id', 'patient_name', 'conditions']).astype({'patient_id':'int64', 'patient_name':'object', 'conditions':'object'})\n",
    "\n",
    "# SQL:\n",
    "\"\"\"\n",
    "SELECT patient_id, patient_name, conditions \n",
    "FROM patients\n",
    "WHERE conditions like \"DIAB1%\" OR conditions like \"% DIAB1%\";\n",
    "\"\"\"\n",
    "def has_diabetes(conditions):\n",
    "    pattern = r\"^DIAB1\"\n",
    "    cond = conditions.split(' ')\n",
    "    for c in cond:\n",
    "        if re.match(pattern, c):\n",
    "            return True\n",
    "    return False\n",
    "    \n",
    "def find_patients(patients: pd.DataFrame) -> pd.DataFrame:\n",
    "    diab =  patients[\"conditions\"].apply(has_diabetes)\n",
    "    # Altnerative  patients_with_diabetes = patients[patients['conditions'].str.contains(r'\\bDIAB1')]\n",
    "    # \\b indicates only match if it apeats as a serpeate word or word boundary\n",
    "    return patients[diab]\n",
    "#Accepted\n",
    "find_patients(patients)\n"
   ]
  },
  {
   "cell_type": "code",
   "execution_count": null,
   "id": "95a00fe4-8e73-4132-8fdf-17118830ec91",
   "metadata": {},
   "outputs": [],
   "source": []
  }
 ],
 "metadata": {
  "kernelspec": {
   "display_name": "Python 3 (ipykernel)",
   "language": "python",
   "name": "python3"
  },
  "language_info": {
   "codemirror_mode": {
    "name": "ipython",
    "version": 3
   },
   "file_extension": ".py",
   "mimetype": "text/x-python",
   "name": "python",
   "nbconvert_exporter": "python",
   "pygments_lexer": "ipython3",
   "version": "3.10.1"
  }
 },
 "nbformat": 4,
 "nbformat_minor": 5
}
