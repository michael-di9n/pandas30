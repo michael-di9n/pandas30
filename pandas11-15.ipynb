{
 "cells": [
  {
   "cell_type": "code",
   "execution_count": 27,
   "id": "06053803-8003-4a64-b241-9776d5f49245",
   "metadata": {},
   "outputs": [
    {
     "data": {
      "text/html": [
       "<div>\n",
       "<style scoped>\n",
       "    .dataframe tbody tr th:only-of-type {\n",
       "        vertical-align: middle;\n",
       "    }\n",
       "\n",
       "    .dataframe tbody tr th {\n",
       "        vertical-align: top;\n",
       "    }\n",
       "\n",
       "    .dataframe thead th {\n",
       "        text-align: right;\n",
       "    }\n",
       "</style>\n",
       "<table border=\"1\" class=\"dataframe\">\n",
       "  <thead>\n",
       "    <tr style=\"text-align: right;\">\n",
       "      <th></th>\n",
       "      <th>SecondHighestSalary</th>\n",
       "    </tr>\n",
       "  </thead>\n",
       "  <tbody>\n",
       "    <tr>\n",
       "      <th>0</th>\n",
       "      <td>200</td>\n",
       "    </tr>\n",
       "  </tbody>\n",
       "</table>\n",
       "</div>"
      ],
      "text/plain": [
       "   SecondHighestSalary\n",
       "0                  200"
      ]
     },
     "execution_count": 27,
     "metadata": {},
     "output_type": "execute_result"
    }
   ],
   "source": [
    "#day11\n",
    "import pandas as pd\n",
    "data = [[1, 100], [2, 200], [3, 300]]\n",
    "employee = pd.DataFrame(data, columns=['id', 'salary']).astype({'id':'int64', 'salary':'int64'})\n",
    "\n",
    "# Reasoning\n",
    "# Sort the employee by salary largest to smallest\n",
    "# Find the first value that is not equal to the first salary | remove duplicates and get the nth salary (keep first indtance)\n",
    "# returns a generate frame\n",
    "def second_highest_salary(employee: pd.DataFrame) -> pd.DataFrame:\n",
    "    # Creates a non duplicate dataframe of the salary column\n",
    "    unique_salaries = employee[\"salary\"].drop_duplicates()\n",
    "    if len(unique_salaries) < 2:\n",
    "        return pd.DataFrame({'SecondHighestSalary': [None]})\n",
    "        \n",
    "    unique_salaries = unique_salaries.sort_values(ascending=False)\n",
    "    secondHighest = unique_salaries.iloc[1]\n",
    "    return pd.DataFrame({'SecondHighestSalary': [secondHighest]})\n",
    "    \n",
    "# Panda series is a one dimentional labeled array - i.e., single column of dataframe\n",
    "# Data frame is two dimensional structure labeled\n",
    "\n",
    "second_highest_salary(employee)"
   ]
  },
  {
   "cell_type": "code",
   "execution_count": null,
   "id": "54beeb2c-14a3-47c5-bdd8-3d5ad4e45dc8",
   "metadata": {},
   "outputs": [],
   "source": [
    "\"\"\"\n",
    "SQL version\n",
    "SELECT (\n",
    "    SELECT DISTINCT salary\n",
    "    FROM Employee ORDER BY salary DESC \n",
    "    LIMIT 1 OFFSET 1   #Limits to 1 row and skips the first row\n",
    ") as SecondHighestSalary # Wraps the out and renames the result as second highest salary\n",
    "\"\"\""
   ]
  }
 ],
 "metadata": {
  "kernelspec": {
   "display_name": "Python 3 (ipykernel)",
   "language": "python",
   "name": "python3"
  },
  "language_info": {
   "codemirror_mode": {
    "name": "ipython",
    "version": 3
   },
   "file_extension": ".py",
   "mimetype": "text/x-python",
   "name": "python",
   "nbconvert_exporter": "python",
   "pygments_lexer": "ipython3",
   "version": "3.10.1"
  }
 },
 "nbformat": 4,
 "nbformat_minor": 5
}
